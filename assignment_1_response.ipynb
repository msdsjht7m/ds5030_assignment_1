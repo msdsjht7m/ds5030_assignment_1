{
 "cells": [
  {
   "cell_type": "markdown",
   "id": "87b91d83",
   "metadata": {},
   "source": [
    "# Assignment 1\n",
    "### Understanding Uncertainty\n",
    "### Due 9/5"
   ]
  },
  {
   "cell_type": "markdown",
   "id": "380e339f",
   "metadata": {},
   "source": [
    "1. Create a new public repo on Github under your account. Include a readme file.\n",
    "2. Clone it to your machine. Put this file into that repo.\n",
    "3. Use the following function to download the example data for the course:"
   ]
  },
  {
   "cell_type": "code",
   "execution_count": 1,
   "id": "2d62b4f6",
   "metadata": {},
   "outputs": [
    {
     "name": "stdout",
     "output_type": "stream",
     "text": [
      "Downloading course data\n",
      "Download complete\n",
      "Extracting data files...\n",
      "Data extracted\n"
     ]
    }
   ],
   "source": [
    "def download_data(force=False):\n",
    "    \"\"\"Download and extract course data from Zenodo.\"\"\"\n",
    "    import urllib.request, zipfile, os\n",
    "    \n",
    "    zip_path = 'data.zip'\n",
    "    data_dir = 'data'\n",
    "    \n",
    "    if not os.path.exists(zip_path) or force:\n",
    "        print(\"Downloading course data\")\n",
    "        urllib.request.urlretrieve(\n",
    "            'https://zenodo.org/records/16954427/files/data.zip?download=1',\n",
    "            zip_path\n",
    "        )\n",
    "        print(\"Download complete\")\n",
    "    else:\n",
    "        print(\"Download file already exists\")\n",
    "        \n",
    "    if not os.path.exists(data_dir) or force:\n",
    "        print(\"Extracting data files...\")\n",
    "        with zipfile.ZipFile(zip_path, 'r') as zip_ref:\n",
    "            zip_ref.extractall(data_dir)\n",
    "        print(\"Data extracted\")\n",
    "    else:\n",
    "        print(\"Data directory already exists\")\n",
    "\n",
    "download_data()"
   ]
  },
  {
   "cell_type": "markdown",
   "id": "01db0045",
   "metadata": {},
   "source": [
    "4. Open one of the datasets using Pandas:\n",
    "    1. `ames_prices.csv`: Housing characteristics and prices\n",
    "    2. `college_completion.csv`: Public, nonprofit, and for-profit educational institutions, graduation rates, and financial aid\n",
    "    3. `ForeignGifts_edu.csv`: Monetary and in-kind transfers from foreign entities to U.S. educational institutions\n",
    "    4. `iowa.csv`: Liquor sales in Iowa, at the transaction level\n",
    "    5. `metabric.csv`: Cancer patient and outcome data\n",
    "    6. `mn_police_use_of_force.csv`: Records of physical altercations between Minnessota police and private citizens\n",
    "    7. `nhanes_data_17_18.csv`: National Health and Nutrition Examination Survey\n",
    "    8. `tuna.csv`: Yellowfin Tuna Genome (I don't recommend this one; it's just a sequence of G, C, A, T )\n",
    "    9. `va_procurement.csv`: Public spending by the state of Virginia"
   ]
  },
  {
   "cell_type": "code",
   "execution_count": 20,
   "id": "d182fad1",
   "metadata": {},
   "outputs": [
    {
     "data": {
      "text/html": [
       "<div>\n",
       "<style scoped>\n",
       "    .dataframe tbody tr th:only-of-type {\n",
       "        vertical-align: middle;\n",
       "    }\n",
       "\n",
       "    .dataframe tbody tr th {\n",
       "        vertical-align: top;\n",
       "    }\n",
       "\n",
       "    .dataframe thead th {\n",
       "        text-align: right;\n",
       "    }\n",
       "</style>\n",
       "<table border=\"1\" class=\"dataframe\">\n",
       "  <thead>\n",
       "    <tr style=\"text-align: right;\">\n",
       "      <th></th>\n",
       "      <th>Unnamed: 0</th>\n",
       "      <th>Entity Description</th>\n",
       "      <th>NIGP #</th>\n",
       "      <th>NIGP Description</th>\n",
       "      <th>Item Description</th>\n",
       "      <th>Order #</th>\n",
       "      <th>Quantity Ordered</th>\n",
       "      <th>Unit Price</th>\n",
       "      <th>Unit of Measure</th>\n",
       "      <th>Line Total</th>\n",
       "      <th>Order Status</th>\n",
       "      <th>Procurement Transaction Type</th>\n",
       "      <th>Procurement Transaction Desc</th>\n",
       "      <th>Vendor Name</th>\n",
       "      <th>Vendor Address State</th>\n",
       "    </tr>\n",
       "  </thead>\n",
       "  <tbody>\n",
       "    <tr>\n",
       "      <th>0</th>\n",
       "      <td>1209821</td>\n",
       "      <td>Virginia Polytechnic Institute and State Unive...</td>\n",
       "      <td>91577.0</td>\n",
       "      <td>Telephone Services, Long Distance and Local (I...</td>\n",
       "      <td>-10K 14-17' DF IND FORKLIFT0550610</td>\n",
       "      <td>A208_P4426539</td>\n",
       "      <td>1.0</td>\n",
       "      <td>1895.00</td>\n",
       "      <td>EA</td>\n",
       "      <td>1895.00</td>\n",
       "      <td>Ordered</td>\n",
       "      <td>99.0</td>\n",
       "      <td>IMPORT</td>\n",
       "      <td>Sunbelt Rentals Inc</td>\n",
       "      <td>VA</td>\n",
       "    </tr>\n",
       "    <tr>\n",
       "      <th>1</th>\n",
       "      <td>1511053</td>\n",
       "      <td>Virginia Department of Energy</td>\n",
       "      <td>20468.0</td>\n",
       "      <td>Peripherals, Miscellaneous: Joy Sticks, Graphi...</td>\n",
       "      <td>Fellowes Microbanreg Mouse Pad - Black</td>\n",
       "      <td>PCO04672013</td>\n",
       "      <td>12.0</td>\n",
       "      <td>5.00</td>\n",
       "      <td>EA</td>\n",
       "      <td>60.00</td>\n",
       "      <td>Ordered</td>\n",
       "      <td>20.0</td>\n",
       "      <td>Supplies - Non-Technology</td>\n",
       "      <td>TSRC - State of VA</td>\n",
       "      <td>VA</td>\n",
       "    </tr>\n",
       "    <tr>\n",
       "      <th>2</th>\n",
       "      <td>410883</td>\n",
       "      <td>Department of Corrections - Academy</td>\n",
       "      <td>38542.0</td>\n",
       "      <td>Entrees, Meat (Includes Beef and Pork)</td>\n",
       "      <td>Performance Foodservice  Invoice# 5219606  Del...</td>\n",
       "      <td>PO04394339</td>\n",
       "      <td>1.0</td>\n",
       "      <td>234.20</td>\n",
       "      <td>LO</td>\n",
       "      <td>234.20</td>\n",
       "      <td>Ordered</td>\n",
       "      <td>20.0</td>\n",
       "      <td>Supplies - Non-Technology</td>\n",
       "      <td>Performance Foodservice VA</td>\n",
       "      <td>VA</td>\n",
       "    </tr>\n",
       "    <tr>\n",
       "      <th>3</th>\n",
       "      <td>1360394</td>\n",
       "      <td>Old Dominion University</td>\n",
       "      <td>49000.0</td>\n",
       "      <td>LABORATORY EQUIPMENT, ACCESSORIES AND SUPPLIES...</td>\n",
       "      <td>SystemETF# *********     RS020  Ø1 TappedPostS...</td>\n",
       "      <td>PO04579739-V2</td>\n",
       "      <td>3.0</td>\n",
       "      <td>11.51</td>\n",
       "      <td>EA</td>\n",
       "      <td>34.53</td>\n",
       "      <td>Ordered</td>\n",
       "      <td>15.0</td>\n",
       "      <td>Equipment - Technology</td>\n",
       "      <td>ThorLabs Inc</td>\n",
       "      <td>NJ</td>\n",
       "    </tr>\n",
       "    <tr>\n",
       "      <th>4</th>\n",
       "      <td>1180847</td>\n",
       "      <td>Longwood University</td>\n",
       "      <td>5000.0</td>\n",
       "      <td>ART EQUIPMENT AND SUPPLIES</td>\n",
       "      <td>Scotch Multi-Purpose Scissors, 7 Inches, Strai...</td>\n",
       "      <td>PO04601721</td>\n",
       "      <td>74.0</td>\n",
       "      <td>3.57</td>\n",
       "      <td>EA</td>\n",
       "      <td>264.18</td>\n",
       "      <td>Ordered</td>\n",
       "      <td>20.0</td>\n",
       "      <td>Supplies - Non-Technology</td>\n",
       "      <td>School Specialty LLC</td>\n",
       "      <td>WI</td>\n",
       "    </tr>\n",
       "    <tr>\n",
       "      <th>5</th>\n",
       "      <td>18453</td>\n",
       "      <td>Virginia Polytechnic Institute and State Unive...</td>\n",
       "      <td>49535.0</td>\n",
       "      <td>Cabinets and Cases, Storage (For Slides and Sp...</td>\n",
       "      <td>-Shipping</td>\n",
       "      <td>A208_P4467652</td>\n",
       "      <td>1.0</td>\n",
       "      <td>1.50</td>\n",
       "      <td>EA</td>\n",
       "      <td>1.50</td>\n",
       "      <td>Ordered</td>\n",
       "      <td>99.0</td>\n",
       "      <td>IMPORT</td>\n",
       "      <td>Uline Inc</td>\n",
       "      <td>WI</td>\n",
       "    </tr>\n",
       "    <tr>\n",
       "      <th>6</th>\n",
       "      <td>906645</td>\n",
       "      <td>Department of Blind and Vision Impaired</td>\n",
       "      <td>91013.0</td>\n",
       "      <td>Elevator Installation, Maintenance and Repair</td>\n",
       "      <td>ANNUAL PASSENGER AND FREIGHT ELEVATOR INSPECTIONS</td>\n",
       "      <td>PO04476410</td>\n",
       "      <td>2.0</td>\n",
       "      <td>120.00</td>\n",
       "      <td>EA</td>\n",
       "      <td>240.00</td>\n",
       "      <td>Ordered</td>\n",
       "      <td>30.0</td>\n",
       "      <td>Non-professional Services - Non-Technology</td>\n",
       "      <td>Roanoke Valley Elevator Inspection LLC</td>\n",
       "      <td>VA</td>\n",
       "    </tr>\n",
       "    <tr>\n",
       "      <th>7</th>\n",
       "      <td>1432766</td>\n",
       "      <td>Western State Hospital</td>\n",
       "      <td>83252.0</td>\n",
       "      <td>Tape, Masking</td>\n",
       "      <td>TAPE,MASK,HGHLD,2 X60YDS</td>\n",
       "      <td>PO04689186</td>\n",
       "      <td>1.0</td>\n",
       "      <td>26.48</td>\n",
       "      <td>PK</td>\n",
       "      <td>26.48</td>\n",
       "      <td>Ordered</td>\n",
       "      <td>20.0</td>\n",
       "      <td>Supplies - Non-Technology</td>\n",
       "      <td>Millers Supplies At Work</td>\n",
       "      <td>VA</td>\n",
       "    </tr>\n",
       "    <tr>\n",
       "      <th>8</th>\n",
       "      <td>1340170</td>\n",
       "      <td>George Mason University</td>\n",
       "      <td>96300.0</td>\n",
       "      <td>NON-BIDDABLE MISCELLANEOUS ITEMS</td>\n",
       "      <td>GOVERNMENT SERVICES EA</td>\n",
       "      <td>A247_PC_TXN00488610</td>\n",
       "      <td>1.0</td>\n",
       "      <td>150.00</td>\n",
       "      <td>EA</td>\n",
       "      <td>150.00</td>\n",
       "      <td>Ordered</td>\n",
       "      <td>30.0</td>\n",
       "      <td>Non-professional Services - Non-Technology</td>\n",
       "      <td>Virginia State Bar</td>\n",
       "      <td>VA</td>\n",
       "    </tr>\n",
       "    <tr>\n",
       "      <th>9</th>\n",
       "      <td>526314</td>\n",
       "      <td>Department of Conservation and Recreation</td>\n",
       "      <td>20775.0</td>\n",
       "      <td>Projection Devices and Accessories: Interactiv...</td>\n",
       "      <td>ViewSonic VA2447-MHU - LED monitor - 24  (23.8...</td>\n",
       "      <td>PCO04479413</td>\n",
       "      <td>1.0</td>\n",
       "      <td>119.00</td>\n",
       "      <td>EA</td>\n",
       "      <td>119.00</td>\n",
       "      <td>Ordered</td>\n",
       "      <td>15.0</td>\n",
       "      <td>Equipment - Technology</td>\n",
       "      <td>DALY COMPUTERS INC</td>\n",
       "      <td>MD</td>\n",
       "    </tr>\n",
       "  </tbody>\n",
       "</table>\n",
       "</div>"
      ],
      "text/plain": [
       "   Unnamed: 0                                 Entity Description   NIGP #  \\\n",
       "0     1209821  Virginia Polytechnic Institute and State Unive...  91577.0   \n",
       "1     1511053                      Virginia Department of Energy  20468.0   \n",
       "2      410883                Department of Corrections - Academy  38542.0   \n",
       "3     1360394                            Old Dominion University  49000.0   \n",
       "4     1180847                                Longwood University   5000.0   \n",
       "5       18453  Virginia Polytechnic Institute and State Unive...  49535.0   \n",
       "6      906645            Department of Blind and Vision Impaired  91013.0   \n",
       "7     1432766                             Western State Hospital  83252.0   \n",
       "8     1340170                            George Mason University  96300.0   \n",
       "9      526314          Department of Conservation and Recreation  20775.0   \n",
       "\n",
       "                                    NIGP Description  \\\n",
       "0  Telephone Services, Long Distance and Local (I...   \n",
       "1  Peripherals, Miscellaneous: Joy Sticks, Graphi...   \n",
       "2             Entrees, Meat (Includes Beef and Pork)   \n",
       "3  LABORATORY EQUIPMENT, ACCESSORIES AND SUPPLIES...   \n",
       "4                         ART EQUIPMENT AND SUPPLIES   \n",
       "5  Cabinets and Cases, Storage (For Slides and Sp...   \n",
       "6      Elevator Installation, Maintenance and Repair   \n",
       "7                                      Tape, Masking   \n",
       "8                   NON-BIDDABLE MISCELLANEOUS ITEMS   \n",
       "9  Projection Devices and Accessories: Interactiv...   \n",
       "\n",
       "                                    Item Description              Order #  \\\n",
       "0                 -10K 14-17' DF IND FORKLIFT0550610        A208_P4426539   \n",
       "1             Fellowes Microbanreg Mouse Pad - Black          PCO04672013   \n",
       "2  Performance Foodservice  Invoice# 5219606  Del...           PO04394339   \n",
       "3  SystemETF# *********     RS020  Ø1 TappedPostS...        PO04579739-V2   \n",
       "4  Scotch Multi-Purpose Scissors, 7 Inches, Strai...           PO04601721   \n",
       "5                                          -Shipping        A208_P4467652   \n",
       "6  ANNUAL PASSENGER AND FREIGHT ELEVATOR INSPECTIONS           PO04476410   \n",
       "7                           TAPE,MASK,HGHLD,2 X60YDS           PO04689186   \n",
       "8                             GOVERNMENT SERVICES EA  A247_PC_TXN00488610   \n",
       "9  ViewSonic VA2447-MHU - LED monitor - 24  (23.8...          PCO04479413   \n",
       "\n",
       "   Quantity Ordered  Unit Price Unit of Measure  Line Total Order Status  \\\n",
       "0               1.0     1895.00              EA     1895.00      Ordered   \n",
       "1              12.0        5.00              EA       60.00      Ordered   \n",
       "2               1.0      234.20              LO      234.20      Ordered   \n",
       "3               3.0       11.51              EA       34.53      Ordered   \n",
       "4              74.0        3.57              EA      264.18      Ordered   \n",
       "5               1.0        1.50              EA        1.50      Ordered   \n",
       "6               2.0      120.00              EA      240.00      Ordered   \n",
       "7               1.0       26.48              PK       26.48      Ordered   \n",
       "8               1.0      150.00              EA      150.00      Ordered   \n",
       "9               1.0      119.00              EA      119.00      Ordered   \n",
       "\n",
       "   Procurement Transaction Type                Procurement Transaction Desc  \\\n",
       "0                          99.0                                      IMPORT   \n",
       "1                          20.0                   Supplies - Non-Technology   \n",
       "2                          20.0                   Supplies - Non-Technology   \n",
       "3                          15.0                      Equipment - Technology   \n",
       "4                          20.0                   Supplies - Non-Technology   \n",
       "5                          99.0                                      IMPORT   \n",
       "6                          30.0  Non-professional Services - Non-Technology   \n",
       "7                          20.0                   Supplies - Non-Technology   \n",
       "8                          30.0  Non-professional Services - Non-Technology   \n",
       "9                          15.0                      Equipment - Technology   \n",
       "\n",
       "                              Vendor Name Vendor Address State  \n",
       "0                     Sunbelt Rentals Inc                   VA  \n",
       "1                      TSRC - State of VA                   VA  \n",
       "2              Performance Foodservice VA                   VA  \n",
       "3                            ThorLabs Inc                   NJ  \n",
       "4                    School Specialty LLC                   WI  \n",
       "5                               Uline Inc                   WI  \n",
       "6  Roanoke Valley Elevator Inspection LLC                   VA  \n",
       "7                Millers Supplies At Work                   VA  \n",
       "8                      Virginia State Bar                   VA  \n",
       "9                      DALY COMPUTERS INC                   MD  "
      ]
     },
     "execution_count": 20,
     "metadata": {},
     "output_type": "execute_result"
    }
   ],
   "source": [
    "import pandas as pd\n",
    "import numpy as np\n",
    "data1 = pd.read_csv('va_procurement.csv')\n",
    "data1.info\n",
    "data1.describe\n",
    "data1.head(10)"
   ]
  },
  {
   "cell_type": "markdown",
   "id": "fa5cade1",
   "metadata": {},
   "source": [
    "5. Pick two or three variables and briefly analyze them\n",
    "    - Is it a categorical or numeric variable?\n",
    "    - How many missing values are there? (`df['var'].isna()` and `np.sum()`)\n",
    "    - If categorical, tabulate the values (`df['var'].value_counts()`) and if numeric, get a summary (`df['var'].describe()`)"
   ]
  },
  {
   "cell_type": "markdown",
   "id": "476feaa3",
   "metadata": {},
   "source": [
    "1, 2 are categorical. 3 is numeric."
   ]
  },
  {
   "cell_type": "code",
   "execution_count": 21,
   "id": "1a35894d",
   "metadata": {},
   "outputs": [
    {
     "data": {
      "text/plain": [
       "np.int64(0)"
      ]
     },
     "execution_count": 21,
     "metadata": {},
     "output_type": "execute_result"
    }
   ],
   "source": [
    "data1['Entity Description'].isna()\n",
    "np.sum(data1['Entity Description'].isna())"
   ]
  },
  {
   "cell_type": "code",
   "execution_count": 19,
   "id": "dc0ed155",
   "metadata": {},
   "outputs": [
    {
     "data": {
      "text/plain": [
       "np.int64(0)"
      ]
     },
     "execution_count": 19,
     "metadata": {},
     "output_type": "execute_result"
    }
   ],
   "source": [
    "data1['Item Description'].isna()\n",
    "np.sum(data1['Item Description'].isna())"
   ]
  },
  {
   "cell_type": "code",
   "execution_count": 23,
   "id": "16450c46",
   "metadata": {},
   "outputs": [
    {
     "data": {
      "text/plain": [
       "np.int64(0)"
      ]
     },
     "execution_count": 23,
     "metadata": {},
     "output_type": "execute_result"
    }
   ],
   "source": [
    "data1['Line Total'].isna()\n",
    "np.sum(data1['Line Total'].isna())"
   ]
  },
  {
   "cell_type": "code",
   "execution_count": 24,
   "id": "72fb88f4",
   "metadata": {},
   "outputs": [
    {
     "data": {
      "text/plain": [
       "Entity Description\n",
       "University of Virginia                                 17868\n",
       "Virginia Polytechnic Institute and State University    10684\n",
       "Virginia Department of Transportation                   8791\n",
       "Virginia Commonwealth University                        5980\n",
       "George Mason University                                 4195\n",
       "                                                       ...  \n",
       "City of Harrisonburg                                       1\n",
       "Secretary of Health and Human Resources                    1\n",
       "Secretary of Labor                                         1\n",
       "Mountain Empire Older Citizens                             1\n",
       "Clarke County                                              1\n",
       "Name: count, Length: 221, dtype: int64"
      ]
     },
     "execution_count": 24,
     "metadata": {},
     "output_type": "execute_result"
    }
   ],
   "source": [
    "data1['Entity Description'].value_counts()"
   ]
  },
  {
   "cell_type": "code",
   "execution_count": 25,
   "id": "9814777e",
   "metadata": {},
   "outputs": [
    {
     "data": {
      "text/plain": [
       "Item Description\n",
       "Shipping                                                  407\n",
       "Bulk motor fuel as described in the attached documents    203\n",
       "Freight                                                   165\n",
       "Item                                                      155\n",
       "Liquid Nitrogen LC240 22 PSI                              141\n",
       "                                                         ... \n",
       "KnifeHolderS;catalog# ********* 1                           1\n",
       "Attorney fees: reference invoice 417807                     1\n",
       "PAD 3M CLEAN & SHINE 20 5/CS                                1\n",
       "Onward: Cultivating Emotio PCE                              1\n",
       "Lexmark Original Laser Toner Cartridge - Yellow...          1\n",
       "Name: count, Length: 76070, dtype: int64"
      ]
     },
     "execution_count": 25,
     "metadata": {},
     "output_type": "execute_result"
    }
   ],
   "source": [
    "data1['Item Description'].value_counts()"
   ]
  },
  {
   "cell_type": "code",
   "execution_count": 26,
   "id": "4b54ad57",
   "metadata": {},
   "outputs": [
    {
     "data": {
      "text/plain": [
       "count    9.590200e+04\n",
       "mean     2.256990e+04\n",
       "std      1.167073e+06\n",
       "min     -9.625000e+04\n",
       "25%      3.241250e+01\n",
       "50%      1.342050e+02\n",
       "75%      6.669800e+02\n",
       "max      2.094900e+08\n",
       "Name: Line Total, dtype: float64"
      ]
     },
     "execution_count": 26,
     "metadata": {},
     "output_type": "execute_result"
    }
   ],
   "source": [
    "data1['Line Total'].describe()"
   ]
  },
  {
   "cell_type": "markdown",
   "id": "dbf2318a",
   "metadata": {},
   "source": [
    "6. What are some questions and prediction tools you could create using these data? Who would the stakeholder be for that prediction tool? What practical or ethical questions would it create? What other data would you want, that are not available in your data?"
   ]
  },
  {
   "cell_type": "markdown",
   "id": "5e013a58",
   "metadata": {},
   "source": [
    "You could ask what the policy prioirities are for the Commonwealth of Virginia as expressed by these budgetary outlays. The stakeholders would be the citizens and taxpayers of the Commonwealth. I don't see any eithical complications beyond holding politicians responsible for their actual rather than stated priorities, which is a good thing. It would be helpful to have overall budget categories and expenditures to help properly contextualize these individual expenditures."
   ]
  },
  {
   "cell_type": "markdown",
   "id": "a4a7ddc7",
   "metadata": {},
   "source": [
    "7. Commit your work to the repo (`git commit -am 'Finish assignment'` at the command line, or use the Git panel in VS Code). Push your work back to Github and submit the link on Canvas in the assignment tab."
   ]
  }
 ],
 "metadata": {
  "kernelspec": {
   "display_name": "ds6001",
   "language": "python",
   "name": "python3"
  },
  "language_info": {
   "codemirror_mode": {
    "name": "ipython",
    "version": 3
   },
   "file_extension": ".py",
   "mimetype": "text/x-python",
   "name": "python",
   "nbconvert_exporter": "python",
   "pygments_lexer": "ipython3",
   "version": "3.13.5"
  }
 },
 "nbformat": 4,
 "nbformat_minor": 5
}
